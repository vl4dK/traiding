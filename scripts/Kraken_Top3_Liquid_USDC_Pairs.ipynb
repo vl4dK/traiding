{
 "cells": [
  {
   "cell_type": "code",
   "execution_count": 1,
   "id": "cfdb9e52-707a-4073-acc6-4319959c44d6",
   "metadata": {},
   "outputs": [
    {
     "name": "stdout",
     "output_type": "stream",
     "text": [
      "Всего найдено 38 пар к USDC на Kraken.\n",
      "=== Топ-3 пары для торговли по критериям ликвидности, спреда и реального оборота ===\n"
     ]
    },
    {
     "data": {
      "text/html": [
       "<div>\n",
       "<style scoped>\n",
       "    .dataframe tbody tr th:only-of-type {\n",
       "        vertical-align: middle;\n",
       "    }\n",
       "\n",
       "    .dataframe tbody tr th {\n",
       "        vertical-align: top;\n",
       "    }\n",
       "\n",
       "    .dataframe thead th {\n",
       "        text-align: right;\n",
       "    }\n",
       "</style>\n",
       "<table border=\"1\" class=\"dataframe\">\n",
       "  <thead>\n",
       "    <tr style=\"text-align: right;\">\n",
       "      <th></th>\n",
       "      <th>wsname</th>\n",
       "      <th>spread_%</th>\n",
       "      <th>volume_24h</th>\n",
       "      <th>trades_last_hour</th>\n",
       "      <th>real_volume_last_hour</th>\n",
       "    </tr>\n",
       "  </thead>\n",
       "  <tbody>\n",
       "    <tr>\n",
       "      <th>0</th>\n",
       "      <td>XRP/USDC</td>\n",
       "      <td>0.00041</td>\n",
       "      <td>228253.208938</td>\n",
       "      <td>126</td>\n",
       "      <td>56964.048807</td>\n",
       "    </tr>\n",
       "  </tbody>\n",
       "</table>\n",
       "</div>"
      ],
      "text/plain": [
       "     wsname  spread_%     volume_24h  trades_last_hour  real_volume_last_hour\n",
       "0  XRP/USDC   0.00041  228253.208938               126           56964.048807"
      ]
     },
     "metadata": {},
     "output_type": "display_data"
    }
   ],
   "source": [
    "import requests\n",
    "import pandas as pd\n",
    "import time\n",
    "\n",
    "# 1. Получаем список всех USDC-пар на Kraken\n",
    "pair_resp = requests.get('https://api.kraken.com/0/public/AssetPairs').json()\n",
    "usdc_pairs = []\n",
    "for key, val in pair_resp['result'].items():\n",
    "    if val.get('wsname') and '/USDC' in val['wsname'] and '.d' not in key:\n",
    "        usdc_pairs.append({'pair': key, 'wsname': val['wsname'], 'altname': val['altname']})\n",
    "\n",
    "print(f\"Всего найдено {len(usdc_pairs)} пар к USDC на Kraken.\")\n",
    "\n",
    "# 2. Проверяем ликвидность и спред\n",
    "pre_filtered = []\n",
    "for p in usdc_pairs:\n",
    "    ticker_url = f\"https://api.kraken.com/0/public/Ticker?pair={p['pair']}\"\n",
    "    resp = requests.get(ticker_url).json()\n",
    "    result = list(resp['result'].values())[0]\n",
    "    bid = float(result['b'][0])\n",
    "    ask = float(result['a'][0])\n",
    "    spread = (ask - bid) / ((ask + bid) / 2) * 100\n",
    "    volume_24h = float(result['v'][1])\n",
    "    if spread < 0.2 and volume_24h > 100000:\n",
    "        pre_filtered.append({**p, 'spread_%': spread, 'volume_24h': volume_24h, 'bid': bid, 'ask': ask})\n",
    "\n",
    "# 3. Проверяем реальную активность за последний час\n",
    "summary = []\n",
    "for p in pre_filtered:\n",
    "    try:\n",
    "        trades_url = f\"https://api.kraken.com/0/public/Trades?pair={p['altname']}\"\n",
    "        resp = requests.get(trades_url).json()\n",
    "        trades = list(resp['result'].values())[0]\n",
    "        since = time.time() - 3600\n",
    "        trades_last_hour = [t for t in trades if float(t[2]) > since]\n",
    "        vol = sum(float(t[1]) for t in trades_last_hour)\n",
    "        ntrades = len(trades_last_hour)\n",
    "        summary.append({**p, 'trades_last_hour': ntrades, 'real_volume_last_hour': vol})\n",
    "    except Exception as e:\n",
    "        print(f\"Ошибка с парой {p['wsname']}: {e}\")\n",
    "\n",
    "# 4. Формируем DataFrame и выбираем топ-3 по реальному обороту за час\n",
    "df = pd.DataFrame(summary)\n",
    "if df.empty:\n",
    "    print(\"Нет подходящих пар по всем критериям!\")\n",
    "else:\n",
    "    df = df.sort_values('real_volume_last_hour', ascending=False)\n",
    "    top3 = df.head(3)[['wsname', 'spread_%', 'volume_24h', 'trades_last_hour', 'real_volume_last_hour']]\n",
    "    print(\"=== Топ-3 пары для торговли по критериям ликвидности, спреда и реального оборота ===\")\n",
    "    display(top3)\n"
   ]
  }
 ],
 "metadata": {
  "kernelspec": {
   "display_name": "Python 3 (ipykernel)",
   "language": "python",
   "name": "python3"
  },
  "language_info": {
   "codemirror_mode": {
    "name": "ipython",
    "version": 3
   },
   "file_extension": ".py",
   "mimetype": "text/x-python",
   "name": "python",
   "nbconvert_exporter": "python",
   "pygments_lexer": "ipython3",
   "version": "3.12.7"
  }
 },
 "nbformat": 4,
 "nbformat_minor": 5
}
