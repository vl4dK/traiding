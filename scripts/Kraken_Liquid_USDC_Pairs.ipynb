{
 "cells": [
  {
   "cell_type": "code",
   "execution_count": 4,
   "id": "99ea1dc5-9a76-4dd4-8852-7c1cfbb868cc",
   "metadata": {},
   "outputs": [
    {
     "name": "stdout",
     "output_type": "stream",
     "text": [
      "Пары с низким спредом и высокой ликвидностью:\n",
      "       pair  spread_%    volume_24h\n",
      "0  ADA/USDC  0.181168  3.766546e+06\n",
      "1  XRP/USDC  0.000410  6.332365e+05\n"
     ]
    }
   ],
   "source": [
    "import requests\n",
    "import pandas as pd\n",
    "\n",
    "# Получаем список всех пар\n",
    "url = \"https://api.kraken.com/0/public/AssetPairs\"\n",
    "resp = requests.get(url).json()\n",
    "usdc_pairs = []\n",
    "for key, val in resp['result'].items():\n",
    "    if val.get('wsname') and '/USDC' in val['wsname'] and '.d' not in key:\n",
    "        usdc_pairs.append({'pair': key, 'wsname': val['wsname']})\n",
    "\n",
    "# Получаем тикер и объём по каждой паре\n",
    "good_pairs = []\n",
    "for p in usdc_pairs:\n",
    "    ticker_url = f\"https://api.kraken.com/0/public/Ticker?pair={p['pair']}\"\n",
    "    resp = requests.get(ticker_url).json()\n",
    "    result = list(resp['result'].values())[0]\n",
    "    bid = float(result['b'][0])\n",
    "    ask = float(result['a'][0])\n",
    "    spread = (ask - bid) / ((ask + bid) / 2) * 100  # в %\n",
    "    volume_24h = float(result['v'][1])\n",
    "    if spread < 0.2 and volume_24h > 100000:  # спред меньше 0.2%, объем больше $100K\n",
    "        good_pairs.append({\n",
    "            'pair': p['wsname'],\n",
    "            'spread_%': spread,\n",
    "            'volume_24h': volume_24h\n",
    "        })\n",
    "\n",
    "# Выводим отобранные пары\n",
    "df = pd.DataFrame(good_pairs).sort_values('volume_24h', ascending=False)\n",
    "print(\"Пары с низким спредом и высокой ликвидностью:\")\n",
    "print(df)\n"
   ]
  },
  {
   "cell_type": "code",
   "execution_count": null,
   "id": "86e7706c-aeb5-406e-8fed-d5347cab13f8",
   "metadata": {},
   "outputs": [],
   "source": []
  },
  {
   "cell_type": "code",
   "execution_count": null,
   "id": "e1fa87a5-b2dc-46fa-a437-6dd1e8aca2ad",
   "metadata": {},
   "outputs": [],
   "source": []
  }
 ],
 "metadata": {
  "kernelspec": {
   "display_name": "Python 3 (ipykernel)",
   "language": "python",
   "name": "python3"
  },
  "language_info": {
   "codemirror_mode": {
    "name": "ipython",
    "version": 3
   },
   "file_extension": ".py",
   "mimetype": "text/x-python",
   "name": "python",
   "nbconvert_exporter": "python",
   "pygments_lexer": "ipython3",
   "version": "3.12.7"
  }
 },
 "nbformat": 4,
 "nbformat_minor": 5
}
